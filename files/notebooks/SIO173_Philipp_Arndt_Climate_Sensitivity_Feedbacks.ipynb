{
  "nbformat": 4,
  "nbformat_minor": 0,
  "metadata": {
    "colab": {
      "provenance": []
    },
    "kernelspec": {
      "name": "python3",
      "display_name": "Python 3"
    },
    "language_info": {
      "name": "python"
    }
  },
  "cells": [
    {
      "cell_type": "markdown",
      "source": [
        "\n",
        "\n",
        "\n",
        "# <font color='red'><b> Climate Sensitivity and Climate Feedbacks</b></font>\n",
        "<br><b> SIO 173 - Dynamics of the Atmosphere and Climate </b><br>\n",
        "Scripps Institution of Oceanography, UC San Diego<br>\n",
        "*May 28, 2024 <br>\n",
        "Philipp Arndt, parndt@ucsd.edu*<br><br>\n",
        "\n",
        "\n",
        "\n",
        "---\n",
        "<br>\n",
        "\n",
        "# Climate Sensitivity\n",
        "\n",
        "<img src=\"https://github.com/fliphilipp/images/blob/main/climate_sensitivity_feedbacks/climate_sensitivity_schematic.jpg?raw=true\" alt=\"banner\" width=\"40%\">\n",
        "\n",
        "General idea:\n",
        "> *How does the Earth's surface temperature $T_s$ change in response to a radiative forcing $\\Delta Q$ at the top of the atmosphere? $\\Rightarrow \\lambda_R = \\frac{\\Delta T_s}{\\Delta Q}$*\n",
        "\n",
        "Often asked more specifically:\n",
        "> *By how much does the Earth's temperature increase when the amount of $\\mathrm{CO}_2$ in the atmosphere doubles? (We denote this value by $\\Delta T_{2\\times\\mathrm{CO}_2}$.)*\n",
        "\n",
        "<br>\n",
        "\n",
        "# Climate Feedbacks\n",
        "\n",
        "<img src=\"https://github.com/fliphilipp/images/blob/main/climate_sensitivity_feedbacks/climate_feedbacks_schematic.jpg?raw=true\" alt=\"banner\" width=\"40%\">\n",
        "\n",
        "Climate feedbacks are processes in the climate system which respond to surface temperature changes in a way that amplifies or dampens the effect of an external forcing that initially caused the warming.\n",
        "\n",
        "<br>\n",
        "\n",
        "---\n",
        "\n",
        "In essence:<br>\n",
        "<img src=\"https://github.com/fliphilipp/images/blob/main/climate_sensitivity_feedbacks/climate_sensitivity_intro_diagram.png?raw=true\" alt=\"banner\" width=\"25%\">\n",
        "\n",
        "(...and some notes from the board below)\n",
        "\n",
        "<img src=\"https://github.com/fliphilipp/images/blob/main/climate_sensitivity_feedbacks/SIO173_Climate%20Sensitivity_and_Feedbacks.jpg?raw=true\" alt=\"banner\" width=\"100%\">"
      ],
      "metadata": {
        "id": "F2OL79PRT1aq"
      }
    },
    {
      "cell_type": "markdown",
      "source": [
        "---\n",
        "\n",
        "## <font color='red'><b> Review of the Global Energy Balance </b>\n",
        "\n",
        "## <font color='red'><b> No atmosphere: </b>\n",
        "\n",
        "\n",
        "<img src=\"https://github.com/fliphilipp/images/blob/main/climate_sensitivity_feedbacks/radiative_balance_earth_no_atmosphere.png?raw=true\" alt=\"banner\" width=\"60%\">\n",
        "\n",
        "where\n",
        "- $S = \\frac{L}{4\\pi r_E^2} \\approx 1360 \\mathrm{\\,W\\,m}^{-2}$ is the solar constant,\n",
        "- $\\sigma = 5.67 \\times 10^{-8}\\mathrm{\\,W\\,m}^{-2}\\mathrm{\\,K}^{-4}$ is the Stefan-Boltzmann constant,\n",
        "- $\\alpha \\approx 0.3$ is the Earth's albedo\n",
        "- $T_s$ is the surface temperature\n",
        "\n",
        "If we assume that Earth is in radiative balance ($Q_\\text{in} = Q_\\text{out}$), we have (see class notes)\n",
        "\n",
        "\\begin{align}\n",
        "  T_e = \\left(\\frac{S (1 - \\alpha)}{4\\sigma} \\right)^{1/4} \\approx -19 ^\\circ\\mathrm{C} \\approx -2 ^\\circ\\mathrm{F}.\n",
        "\\end{align}\n",
        "\n",
        "This is too cold to be the actual surface temperature!"
      ],
      "metadata": {
        "id": "32BJX3YnZgBw"
      }
    },
    {
      "cell_type": "code",
      "execution_count": 1,
      "metadata": {
        "id": "kHoGw1fgTvQp",
        "colab": {
          "base_uri": "https://localhost:8080/",
          "height": 49
        },
        "outputId": "ab77d41c-2ccc-44b7-c156-7de70ff682e8"
      },
      "outputs": [
        {
          "output_type": "display_data",
          "data": {
            "text/plain": [
              "<IPython.core.display.Markdown object>"
            ],
            "text/markdown": "**The surface temperature is $-19 ^\\circ\\mathrm{C}$ / $255 \\mathrm{\\,K}$ / $-2 ^\\circ\\mathrm{F}$.**"
          },
          "metadata": {}
        }
      ],
      "source": [
        "# imports\n",
        "from IPython.display import display, Markdown, HTML\n",
        "import numpy as np\n",
        "\n",
        "# specify constants\n",
        "S = 1360.  # Solar constant, W / m^2\n",
        "sigma = 5.67e-8  # Stefan-Boltzmann constant W / (m^2 K^4)\n",
        "\n",
        "# temperature conversions (for printing results in familiar units)\n",
        "def k2f(k):\n",
        "    return (k - 273.15) * 9/5 + 32\n",
        "def k2c(k):\n",
        "    return (k - 273.15)\n",
        "\n",
        "# function to calculate the effective/emission temperature\n",
        "def get_Te(alpha=0.3, S=S, sigma=sigma, verbose=False):\n",
        "  T = (S * (1 - alpha) / (4 * sigma)) ** (1 / 4)\n",
        "  if verbose:\n",
        "    display(Markdown(r'**The surface temperature is $%.0f ^\\circ\\mathrm{C}$ / $%.0f \\mathrm{\\,K}$ / $%.0f ^\\circ\\mathrm{F}$.**' % (k2c(T), T, k2f(T))))\n",
        "  return T\n",
        "\n",
        "# calculate the result for the effective temperature (also the surface temperature in this case)\n",
        "T_e = get_Te(verbose=True);"
      ]
    },
    {
      "cell_type": "markdown",
      "source": [
        "---\n",
        "## <font color='red'><b> A simple greenhouse model: </b>\n",
        "\n",
        "Add an atmosphere into the model that absorbs all outgoing longwave radiation and emits in all directions.\n",
        "\n",
        "<img src=\"https://github.com/fliphilipp/images/blob/main/climate_sensitivity_feedbacks/radiative_balance_earth_opaque_atmosphere.png?raw=true\" alt=\"banner\" width=\"35%\">\n",
        "\n",
        "Here we find (Marshall & Plumb, 2.3.1) that\n",
        "\\begin{align}\n",
        "    T_s = 2^{1/4} T_e \\approx 30^\\circ\\mathrm{C} \\approx 85^\\circ\\mathrm{F}.\n",
        "\\end{align}\n",
        "\n",
        "Now, this is too hot!\n",
        "\n"
      ],
      "metadata": {
        "id": "JJuvHAwwn1JF"
      }
    },
    {
      "cell_type": "code",
      "source": [
        "# calculate the surface temperature for this model\n",
        "T_s = 2**(1/4) * T_e\n",
        "\n",
        "# print the result\n",
        "display(Markdown(r'**The surface temperature is $%.0f ^\\circ\\mathrm{C}$ / $%.0f \\mathrm{\\,K}$ / $%.0f ^\\circ\\mathrm{F}$.**' % (k2c(T_s), T_s, k2f(T_s))))"
      ],
      "metadata": {
        "id": "IL-sFhzlnD03",
        "colab": {
          "base_uri": "https://localhost:8080/",
          "height": 49
        },
        "outputId": "4ca68aac-5928-4d90-ba42-aca5d7384f64"
      },
      "execution_count": 2,
      "outputs": [
        {
          "output_type": "display_data",
          "data": {
            "text/plain": [
              "<IPython.core.display.Markdown object>"
            ],
            "text/markdown": "**The surface temperature is $30 ^\\circ\\mathrm{C}$ / $303 \\mathrm{\\,K}$ / $85 ^\\circ\\mathrm{F}$.**"
          },
          "metadata": {}
        }
      ]
    },
    {
      "cell_type": "markdown",
      "source": [
        "---\n",
        "## <font color='red'><b> A \"leaky\" greenhouse: </b>\n",
        "\n",
        "Now, the atmosphere only absorbs a fraction $\\varepsilon$ of the outgoing longwave radiation. We call $\\varepsilon$ the **absorptivity** of the atmosphere.\n",
        "\n",
        "<img src=\"https://github.com/fliphilipp/images/blob/main/climate_sensitivity_feedbacks/radiative_balance_earth_leaky_greenhouse.png?raw=true\" alt=\"banner\" width=\"35%\">\n",
        "\n",
        "\n",
        "In this case we find (Marshall & Plumb, chapter 2.3.2) that\n",
        "\\begin{align}\n",
        "    T_s = \\left( \\frac{2}{2-\\varepsilon} \\right)^{1/4} T_e.\n",
        "\\end{align}\n",
        "\n",
        "To tune this to the average surface temperature that we see on Earth, we can set $T_s^\\text{(earth)} = 288 \\mathrm{\\,K}$ and solve for\n",
        "\\begin{align}\n",
        "    \\varepsilon_0 = 2 \\left(1-\\left(\\frac{T_e}{T_s^\\text{(earth)}}\\right)^4\\right) \\approx 0.78.\n",
        "\\end{align}"
      ],
      "metadata": {
        "id": "NdvMoS-ztOOC"
      }
    },
    {
      "cell_type": "code",
      "source": [
        "# specify the current surface temperature of the earth\n",
        "T_s_earth = 288\n",
        "\n",
        "# calculate the epsilon that is needed to achieve this temperature, using the formula above\n",
        "epsilon_tuned = 2 - 2 * (T_e / T_s_earth)**4\n",
        "\n",
        "# define a function to calculate T_s in this model\n",
        "def get_Ts_from_Te(T_e, epsilon=epsilon_tuned):\n",
        "    return (2 / (2 - epsilon)) ** (1 / 4) * T_e\n",
        "\n",
        "# calculate the results and print them to check that this works out\n",
        "T_s = get_Ts_from_Te(T_e = get_Te(alpha=0.3), epsilon=epsilon_tuned)\n",
        "display(Markdown(r'**If we let $\\varepsilon=\\varepsilon_0\\approx%.5g$, the surface temperature is $%.1f ^\\circ\\mathrm{C}$ / $%.1f \\mathrm{\\,K}$ / $%.1f ^\\circ\\mathrm{F}$.**' % (epsilon_tuned, k2c(T_s), T_s, k2f(T_s))))"
      ],
      "metadata": {
        "id": "8Pkx8RnGrvWf",
        "colab": {
          "base_uri": "https://localhost:8080/",
          "height": 51
        },
        "outputId": "56ade1c2-e8b4-4551-df08-bb9eceafb1e5"
      },
      "execution_count": 3,
      "outputs": [
        {
          "output_type": "display_data",
          "data": {
            "text/plain": [
              "<IPython.core.display.Markdown object>"
            ],
            "text/markdown": "**If we let $\\varepsilon=\\varepsilon_0\\approx0.77974$, the surface temperature is $14.9 ^\\circ\\mathrm{C}$ / $288.0 \\mathrm{\\,K}$ / $58.7 ^\\circ\\mathrm{F}$.**"
          },
          "metadata": {}
        }
      ]
    },
    {
      "cell_type": "markdown",
      "source": [
        "Now, if we increase $\\varepsilon$, we \"trap\" more radiation inside the atmosphere. This means the surface temperature will increase.\n",
        "\n",
        "---\n",
        "\n",
        "### Relationship between absorptivity and $\\mathrm{CO}_2$ in the atmosphere.\n",
        "\n",
        "The additional amount of outgoing longwave radiation that is trapped inside the atmosphere if we increase $\\varepsilon$ from $\\varepsilon_0$ to $\\varepsilon_1$ is given by\n",
        "\\begin{align}\n",
        "    \\Delta Q = \\sigma \\left(T_s^\\text{earth}\\right)^4 \\frac{\\varepsilon_{2\\times\\mathrm{CO}_2} - \\varepsilon_0}{2}.\n",
        "\\end{align}\n",
        "\n",
        "This is the change to the total radiative flux at the top of the atmosphere, which we refer to as \"radiative forcing\". To relate our atmospheric absorptivity parameter $\\varepsilon$ to a doubling in $\\mathrm{CO}_2$ we use the fact that the corresponding radiative forcing is\n",
        "\\begin{align}\n",
        "    \\Delta Q_{2\\times\\mathrm{CO}_2} \\approx 3.7 \\text{ to } 4 \\mathrm{\\,W\\,m}^{-2}.\n",
        "\\end{align}\n",
        "Using this, we can calculate the change in atmospheric absorptivity that we need in our model to obtain a radiative forcing equal to $\\Delta Q_{2\\times\\mathrm{CO}_2}$:\n",
        "\\begin{align}\n",
        "    \\Delta \\varepsilon_{2\\times\\mathrm{CO}_2} =  \\varepsilon_{2\\times\\mathrm{CO}_2} - \\varepsilon_0 =\n",
        "    \\frac{2 \\Delta Q_{2\\times\\mathrm{CO}_2}}{\\sigma \\left(T_s^\\text{earth}\\right)^4} \\approx 0.02.\n",
        "\\end{align}"
      ],
      "metadata": {
        "id": "swEKbyH55Jve"
      }
    },
    {
      "cell_type": "code",
      "source": [
        "# calculate the increase in epsilon that is needed for a doubling in CO2\n",
        "deltaR_2xCO2 = 3.9  # pick a value in the given range\n",
        "delta_epsilon_2xCO2 = 2 * deltaR_2xCO2 / (sigma * T_s_earth**4)\n",
        "epsilon_new = epsilon_tuned + delta_epsilon_2xCO2\n",
        "\n",
        "# print the results\n",
        "display(Markdown(r'**$\\Delta\\varepsilon_{2\\times\\mathrm{CO}_2}\\approx%.4g$, which gives an atmospheric absorptivity of $\\varepsilon_{2\\times\\mathrm{CO}_2}\\approx%.3g$ after doubling $\\mathrm{CO}_2$.**' % (delta_epsilon_2xCO2, epsilon_new)))"
      ],
      "metadata": {
        "id": "uij7A28XIwUW",
        "colab": {
          "base_uri": "https://localhost:8080/",
          "height": 51
        },
        "outputId": "69dd419e-b6d5-4edf-d8ea-b38a2d463013"
      },
      "execution_count": 4,
      "outputs": [
        {
          "output_type": "display_data",
          "data": {
            "text/plain": [
              "<IPython.core.display.Markdown object>"
            ],
            "text/markdown": "**$\\Delta\\varepsilon_{2\\times\\mathrm{CO}_2}\\approx0.02$, which gives an atmospheric absorptivity of $\\varepsilon_{2\\times\\mathrm{CO}_2}\\approx0.8$ after doubling $\\mathrm{CO}_2$.**"
          },
          "metadata": {}
        }
      ]
    },
    {
      "cell_type": "markdown",
      "source": [
        "### Now calculate the equilibrium climate sensitivity: Change in temperature from a doubling in atmospheric $\\mathrm{CO}_2$:"
      ],
      "metadata": {
        "id": "3UvAqs0vRXsB"
      }
    },
    {
      "cell_type": "code",
      "source": [
        "# calculate the temperature after doubling CO2, based on the result for epsilon and using the functions above\n",
        "T_s_new = get_Ts_from_Te(T_e = get_Te(alpha=0.3), epsilon=epsilon_new)\n",
        "\n",
        "# print the results\n",
        "display(Markdown(r'**If we increase absorptivity to $\\varepsilon=%.3g$, the surface temperature is $%.1f ^\\circ\\mathrm{C}$ / $%.1f \\mathrm{\\,K}$ / $%.1f ^\\circ\\mathrm{F}$.**' % (epsilon_new, k2c(T_s_new), T_s_new, k2f(T_s_new))))\n",
        "display(Markdown(r'**$\\rightarrow$ The increase in absorptivity $\\varepsilon$ results in a temperature increase of $\\Delta T_{2\\times\\mathrm{CO}_2} = %.1f^\\circ\\mathrm{C}$.**' % (T_s_new - T_s)))"
      ],
      "metadata": {
        "id": "y768bOIN5fBs",
        "colab": {
          "base_uri": "https://localhost:8080/",
          "height": 78
        },
        "outputId": "1ca5e8ba-2ddb-488f-dc3a-569e5d64b582"
      },
      "execution_count": 5,
      "outputs": [
        {
          "output_type": "display_data",
          "data": {
            "text/plain": [
              "<IPython.core.display.Markdown object>"
            ],
            "text/markdown": "**If we increase absorptivity to $\\varepsilon=0.8$, the surface temperature is $16.0 ^\\circ\\mathrm{C}$ / $289.2 \\mathrm{\\,K}$ / $60.9 ^\\circ\\mathrm{F}$.**"
          },
          "metadata": {}
        },
        {
          "output_type": "display_data",
          "data": {
            "text/plain": [
              "<IPython.core.display.Markdown object>"
            ],
            "text/markdown": "**$\\rightarrow$ The increase in absorptivity $\\varepsilon$ results in a temperature increase of $\\Delta T_{2\\times\\mathrm{CO}_2} = 1.2^\\circ\\mathrm{C}$.**"
          },
          "metadata": {}
        }
      ]
    },
    {
      "cell_type": "markdown",
      "source": [
        "---\n",
        "### What have we done so far?\n",
        "<img src=\"https://github.com/fliphilipp/images/blob/main/climate_sensitivity_feedbacks/loops_reference.png?raw=true\" alt=\"banner\" width=\"30%\">&nbsp;&nbsp;&nbsp;&nbsp;&nbsp;&nbsp;&nbsp;&nbsp;\n",
        "<img src=\"https://github.com/fliphilipp/images/blob/main/climate_sensitivity_feedbacks/initial-warming.jpg?raw=true\" alt=\"banner\" width=\"30%\">\n"
      ],
      "metadata": {
        "id": "eeMDjkwlmaby"
      }
    },
    {
      "cell_type": "markdown",
      "source": [
        "---\n",
        "## <font color='red'><b> What happens if albedo is dependent on temperature?<br>(the ice-albedo feedback)</b>\n",
        "\n",
        "When the surface temperture increases due to an increased absorptivity (i.e. more $\\mathrm{CO}_2$ in the atmosphere), we expect more ice and snow to melt. This, in turn will mean that less sunlight is reflected away from the earth $\\Rightarrow$ the albedo of earth will decrease. The increased surface absorption of radiation means that temperature increases even. This causes more snow and ice to melt, and so on...\n",
        "\n",
        "Since the temperature change due to an initial forcing creates an additional forcing, we call this a **\"feedback loop\"**:\n",
        "\n",
        "<img src=\"https://github.com/fliphilipp/images/blob/main/climate_sensitivity_feedbacks/feedbacks-icealbedo.png?raw=true\" alt=\"banner\" width=\"25%\">\n",
        "\n",
        "<br>\n",
        "\n",
        "---\n",
        "\n",
        "<br>\n",
        "\n",
        "Let's define this temperature-dependent albedo as:\n",
        "\n",
        "\\begin{align}\n",
        "\\alpha(T) = \\left\\{ \\begin{array}{ccc}\n",
        "\\alpha_i & \\mathrm{if}  & T \\le T_i \\\\\n",
        "\\alpha_o + (\\alpha_i-\\alpha_o) \\frac{(T-T_o)^2}{(T_i-T_o)^2} &  \\mathrm{if} & T_i < T < T_o \\\\\n",
        "\\alpha_o &  & \\mathrm{otherwise.}  \\end{array} \\right\\}\n",
        "\\end{align}\n",
        "\n",
        "where\n",
        "\n",
        "- $\\alpha_o = 0.25$ is the albedo of a warm, ice-free planet\n",
        "- $\\alpha_i = 0.95$ is the albedo of a very cold planet, completely covered in snow and ice\n",
        "- $T_o = 295 \\mathrm{\\,K}$ is the threshold temperature above which we assume the planet is ice-free\n",
        "- $T_i \\approx 268.8 \\mathrm{\\,K}$ is the threshold temperature below which we assume the planet is completely ice covered.\n",
        "\n",
        "*Note: these albedo values are totally not accurate and were chosen for illustration purposes only!*\n",
        "\n",
        "<br>\n",
        "\n",
        "<img src=\"https://github.com/fliphilipp/images/blob/main/climate_sensitivity_feedbacks/earth_temperature_albedo.jpg?raw=true\" alt=\"banner\" width=\"50%\">\n",
        "\n",
        "Note that the \"snowball\" is much more reflective (bright!) than the ice-free earth.\n",
        "\n"
      ],
      "metadata": {
        "id": "dlDo-DxxzaNt"
      }
    },
    {
      "cell_type": "code",
      "source": [
        "# define the temperature-dependent albedo\n",
        "# (this is code for the mathematical expression above)\n",
        "def albedo(T, alpha_o=0.25, alpha_i=0.95, To=295., Ti=268.8083981781207):\n",
        "    try:\n",
        "        T = np.array(T)\n",
        "        alb = alpha_o + (alpha_i-alpha_o)*(T-To)**2 / (Ti - To)**2\n",
        "        alb[T<Ti] = alpha_i\n",
        "        alb[T>To] = alpha_o\n",
        "        return alb\n",
        "    except:\n",
        "        alb = alpha_i if T<Ti else alpha_o + (alpha_i-alpha_o)*(T-To)**2 / (Ti - To)**2\n",
        "        if T>To: alb = alpha_o\n",
        "    return alb\n",
        "\n",
        "# plot the resulting albedo for a range of temperatures\n",
        "import matplotlib.pyplot as plt\n",
        "T_array = np.arange(260, 303.1, 0.1)\n",
        "fig, ax = plt.subplots(figsize=[8,3])\n",
        "ax.plot(T_array, albedo(T_array), 'k-', lw=2, label=r\"$\\alpha(T_s)$\")\n",
        "ax.plot([268.8083981781207]*2, [0,1], color='C0', label=r\"$T_i$\")\n",
        "ax.plot([295]*2, [0,1], color='C1', label=r\"$T_o$\")\n",
        "ax.plot([288]*2, [0,1], color='C2', ls='--', label=r\"$T_\\mathrm{current}$\")\n",
        "ax.set_title(\"a surface temperature-dependent planetary albedo\")\n",
        "ax.set_ylabel(r\"albedo $\\alpha$\")\n",
        "ax.set_xlabel(r\"Earth surface temperature $T_s$  $(\\mathrm{K})$\")\n",
        "ax.legend(loc=\"upper right\");"
      ],
      "metadata": {
        "id": "5sJVXUS5vJMy",
        "colab": {
          "base_uri": "https://localhost:8080/",
          "height": 337
        },
        "outputId": "748d09d6-495c-45e5-ea3c-db678d3f9d34"
      },
      "execution_count": 6,
      "outputs": [
        {
          "output_type": "display_data",
          "data": {
            "text/plain": [
              "<Figure size 800x300 with 1 Axes>"
            ],
            "image/png": "[encoded data removed]"
          },
          "metadata": {}
        }
      ]
    },
    {
      "cell_type": "markdown",
      "source": [
        "<br>\n",
        "\n",
        "---\n",
        "\n",
        "<br>\n",
        "\n",
        "In our model, $T_s$ is calculated using the albedo, but the albedo is itself dependent on $T_s$:\n",
        "\\begin{align}\n",
        "    T_s &= \\left( \\frac{2}{2-\\varepsilon} \\right)^{1/4} T_e \\\\\n",
        "    &= \\left(\\frac{2 S (1 - \\alpha(T_s))}{(2-\\varepsilon)4\\sigma} \\right)^{1/4}.\n",
        "\\end{align}\n",
        "This means that we need to iteratively re-caclulate the surface temperature and albedo until the result converges."
      ],
      "metadata": {
        "id": "8Y0yYqtH4qnd"
      }
    },
    {
      "cell_type": "code",
      "source": [
        "# specify the physical constants\n",
        "S = 1360.  # Solar constant, W / m^2\n",
        "sigma = 5.67e-8  # Stefan-Boltzmann constant W / (m^2 K^4)\n",
        "\n",
        "# a function to calculate the surface temperature of our model, as a function of albedo (alpha) and atmospheric absorptivity (epsilon)\n",
        "# (this is the equation for T_s above)\n",
        "def get_Ts(alpha=0.3, epsilon=epsilon_tuned, S=S, sigma=sigma):\n",
        "    T_e = (S * (1 - alpha) / (4 * sigma)) ** (1 / 4)\n",
        "    return (2 / (2 - epsilon)) ** (1 / 4) * T_e\n",
        "\n",
        "# a function that iteratively solves for surface temperature and albedo in equilibrium\n",
        "# this will run until the difference in T_s from one iteration to the next is smaller than tol=1e-5\n",
        "# if it has not converged in max_iter=1000 iterations, it prints a warning\n",
        "def solve_for_T(T0=288, epsilon=epsilon_tuned, tol=1e-5, max_iter=1000, return_albedo=False):\n",
        "    T_old = T0\n",
        "    i = 0\n",
        "    diff = tol + 1\n",
        "    while (diff > tol) & (i < max_iter):\n",
        "        i += 1\n",
        "        T_new = get_Ts(alpha=albedo(T_old), epsilon=epsilon)\n",
        "        diff = np.abs(T_new - T_old)\n",
        "        T_old = T_new\n",
        "        if i == (max_iter):\n",
        "            print(\"Warning: solve_for_T computation did not converge to desired tolerance.\")\n",
        "            print(diff)\n",
        "    if return_albedo:\n",
        "        return T_new, albedo(T_old)\n",
        "    else:\n",
        "        return T_new"
      ],
      "metadata": {
        "id": "q-pUSNLJTrFu"
      },
      "execution_count": 7,
      "outputs": []
    },
    {
      "cell_type": "markdown",
      "source": [
        "---\n",
        "<font color='red'> Increase absorptivity to $\\varepsilon_{2\\times\\mathrm{CO}_2} \\approx 0.8$ while albedo  $\\alpha(T_s)$ changes based on surface temperature. <br><b>\n",
        "How much does the surface temperature increase in equilibrium? </b>"
      ],
      "metadata": {
        "id": "be2Atcec-Z66"
      }
    },
    {
      "cell_type": "code",
      "source": [
        "# calculate temperatures for reference system\n",
        "T0fix = get_Ts()\n",
        "T1fix = get_Ts(epsilon=epsilon_new)\n",
        "T0var = solve_for_T()\n",
        "\n",
        "# calculate temperatures for the system that includes the ice-albedo feedback\n",
        "T1var = solve_for_T(epsilon=epsilon_new)\n",
        "dtfix = T1fix - T0fix\n",
        "dtvar = T1var - T0var\n",
        "\n",
        "# this prints the results as a (somewhat messy but readable) HTML table\n",
        "html_content = '<!DOCTYPE html><html><head><script type=\"text/javascript\" src=\"https://cdnjs.cloudflare.com/ajax/libs/mathjax/2.7.7/MathJax.js?config=TeX-AMS-MML_HTMLorMML\"></script></head><body><table border=\"1\"><thead><tr>'\n",
        "html_content += '<th colspan=\"2\">&nbsp;</th><th colspan=\"2\" style=\"background-color: #8eb9ff;\">albedo</th>'\n",
        "html_content += \"</tr></thead><tbody>\"\n",
        "html_content += r'<tr><th colspan=\"2\">&nbsp;</th><th style=\"background-color: #b8d3ff;\">\\(\\alpha=0.3\\) (fixed)</th><th style=\"background-color: #639fff;\">\\(\\alpha(T_s)\\) temperature-dependent</th></tr>'\n",
        "html_content += r'<tr><th rowspan=\"2\" style=\"background-color: #ffb2b2;\">absorptivity</th><th style=\"background-color: #ffd9d9;\">\\(\\varepsilon_0\\) (current)</th><td style=\"background-color: #dcd6ec;\">\\(T_0 = %.1f\\mathrm{\\,K}\\)</td><td style=\"background-color: #b1bcec;\">\\(T_0 = %.1f\\mathrm{\\,K}\\)</td></tr>'\n",
        "html_content += r'<tr><th style=\"background-color: #ff8a8a;\">\\(\\varepsilon_{2\\times\\mathrm{CO}_2}\\) (double \\(\\mathrm{CO}_2\\))</th><td style=\"background-color: #dcafc5;\">\\(T_{2\\times\\mathrm{CO}_2} = %.1f\\mathrm{\\,K}\\)</td><td style=\"background-color: #b195c5;\">\\(T_{2\\times\\mathrm{CO}_2} = %.1f\\mathrm{\\,K}\\)</td></tr>'\n",
        "html_content += r'<tr style=\"background-color: #F0E68C;\"><th colspan=\"2\">climate sensitivity \\(\\Delta T_{2\\times\\mathrm{CO}_2}\\)</th><td>\\(%.1f\\mathrm{\\,K}\\)</td><td><font color=\"red\"><b>\\(%.1f\\mathrm{\\,K}\\)</b></font></td></tr>'\n",
        "html_content += r'</tbody></table><script type=\"text/javascript\">MathJax.Hub.Queue([\"Typeset\", MathJax.Hub]);</script></body></html>'\n",
        "html_content = html_content % (T0fix, T0var, T1fix, T1var, dtfix, dtvar)\n",
        "display(HTML(html_content))"
      ],
      "metadata": {
        "id": "kgUa1FXuXIYM",
        "colab": {
          "base_uri": "https://localhost:8080/",
          "height": 136
        },
        "outputId": "add0d66c-017e-47e0-d483-ce79b01f361d"
      },
      "execution_count": 8,
      "outputs": [
        {
          "output_type": "display_data",
          "data": {
            "text/plain": [
              "<IPython.core.display.HTML object>"
            ],
            "text/html": [
              "<!DOCTYPE html><html><head><script type=\"text/javascript\" src=\"https://cdnjs.cloudflare.com/ajax/libs/mathjax/2.7.7/MathJax.js?config=TeX-AMS-MML_HTMLorMML\"></script></head><body><table border=\"1\"><thead><tr><th colspan=\"2\">&nbsp;</th><th colspan=\"2\" style=\"background-color: #8eb9ff;\">albedo</th></tr></thead><tbody><tr><th colspan=\"2\">&nbsp;</th><th style=\"background-color: #b8d3ff;\">\\(\\alpha=0.3\\) (fixed)</th><th style=\"background-color: #639fff;\">\\(\\alpha(T_s)\\) temperature-dependent</th></tr><tr><th rowspan=\"2\" style=\"background-color: #ffb2b2;\">absorptivity</th><th style=\"background-color: #ffd9d9;\">\\(\\varepsilon_0\\) (current)</th><td style=\"background-color: #dcd6ec;\">\\(T_0 = 288.0\\mathrm{\\,K}\\)</td><td style=\"background-color: #b1bcec;\">\\(T_0 = 288.0\\mathrm{\\,K}\\)</td></tr><tr><th style=\"background-color: #ff8a8a;\">\\(\\varepsilon_{2\\times\\mathrm{CO}_2}\\) (double \\(\\mathrm{CO}_2\\))</th><td style=\"background-color: #dcafc5;\">\\(T_{2\\times\\mathrm{CO}_2} = 289.2\\mathrm{\\,K}\\)</td><td style=\"background-color: #b195c5;\">\\(T_{2\\times\\mathrm{CO}_2} = 294.2\\mathrm{\\,K}\\)</td></tr><tr style=\"background-color: #F0E68C;\"><th colspan=\"2\">climate sensitivity \\(\\Delta T_{2\\times\\mathrm{CO}_2}\\)</th><td>\\(1.2\\mathrm{\\,K}\\)</td><td><font color=\"red\"><b>\\(6.2\\mathrm{\\,K}\\)</b></font></td></tr></tbody></table><script type=\"text/javascript\">MathJax.Hub.Queue([\"Typeset\", MathJax.Hub]);</script></body></html>"
            ]
          },
          "metadata": {}
        }
      ]
    },
    {
      "cell_type": "markdown",
      "source": [
        "Based on our (simplified) energy balance model, we have calculated the *equilibrium climate sensitivity* for a doubling in $\\mathrm{CO}_2$ for\n",
        "- our reference system, and\n",
        "- for a system that includes an ice-albedo feedback.\n",
        "\n",
        "The ice-albedo feedback **reinforces the initial forcing**, and therefore acts to increase the climate sensitivity. <br>\n",
        "This means that the ice-albedo feedback is a <font color='red'>positive / destabilizing</font> feedback. (More on that below...)\n",
        "\n",
        "<br>\n",
        "\n",
        "<table>\n",
        "<tr>\n",
        "<td><img src=\"https://github.com/fliphilipp/images/blob/main/climate_sensitivity_feedbacks/loops_reference.png?raw=true\" alt=\"banner\" height=\"200px\"></td>\n",
        "<td><img src=\"https://github.com/fliphilipp/images/blob/main/climate_sensitivity_feedbacks/loops_icealbedo_caption.png?raw=true\" alt=\"banner\" height=\"200px\"></td>\n",
        "</tr>\n",
        "<tr>\n",
        "<th><font size='4vw'><b>$\\Delta T_{2\\times\\mathrm{CO}_2} \\approx 1.2 \\mathrm{\\,K}$</th>\n",
        "<th><font size='4vw'><b>$\\Delta T_{2\\times\\mathrm{CO}_2} \\approx 6.2 \\mathrm{\\,K}$</th>\n",
        "</tr>\n",
        "</table>\n",
        "\n",
        "<font size='2pt'>\n",
        "<br>Notes:<br>\n",
        "- The actual value for $\\Delta T_{2\\times\\mathrm{CO}_2}$ with a temperature-dependent albedo is not necessarily accurate, since the temperature-albdo relationship was chosen for illustrative (qualitative) purposes only!<br>\n",
        "- The fact that the temperature $T_0 = 288 \\mathrm{\\,K}$ is the current surface temperature for $\\varepsilon_0$, shows that in our model the Earth is equilibrium in its current state. This is because of how the model was set up. You can show that in the case of a temperature-dependent albedo, this equilibrium is actually *unstable*.\n",
        "</font>"
      ],
      "metadata": {
        "id": "2BiALqRLBsbj"
      }
    },
    {
      "cell_type": "markdown",
      "source": [
        "---\n",
        "# <font color='red'><b> More feedbacks add up! </b>"
      ],
      "metadata": {
        "id": "FZuCiQgfypHg"
      }
    },
    {
      "cell_type": "markdown",
      "source": [
        "There are many ways in which the climate system responds to a forcing. All the different feedbacks within the sytem add up to affect the total climate sensitivity. Individual feedbacks can be <font color='red'>positive / amplifying / destabilizing</font> or <font color='blue'>negative / dampening / stabilizing</font>.\n",
        "\n",
        "<img src=\"https://github.com/fliphilipp/images/blob/main/climate_sensitivity_feedbacks/feedbacks-stabilizing-destabilizing.png?raw=true\" alt=\"banner\" width=\"50%\">\n",
        "\n",
        "<img src=\"https://github.com/fliphilipp/images/blob/main/climate_sensitivity_feedbacks/feedbacks_overview.jpg?raw=true\" alt=\"banner\" width=\"50%\">\n",
        "\n"
      ],
      "metadata": {
        "id": "mAU1AAdi6IqO"
      }
    },
    {
      "cell_type": "markdown",
      "source": [
        "---\n",
        "\n",
        "## <font color='red'><b> Water Vapor Feedback </b></font>\n",
        "\n",
        "The water vapor feedback is based on the <b>Greenhouse effect</b>: Water vapor very efficiently absorbs outgoing longwave radiation and reemits infrared radiation in all directions. Similarly to an increase of $\\mathrm{CO}_2$ in the atmosphere, this traps heat in the atmosphere and makes the Earth warmer. This is a <font color='red'>positive/destabilizing</font> feedback.\n",
        "\n",
        "<img src=\"https://github.com/fliphilipp/images/blob/main/climate_sensitivity_feedbacks/greenhouse-effect.png?raw=true\" width=22%> &nbsp;&nbsp;&nbsp;&nbsp;&nbsp;&nbsp;\n",
        "<img src=\"https://github.com/fliphilipp/images/blob/main/climate_sensitivity_feedbacks/feedbacks-watervapor.png?raw=true\" width=35%>\n",
        "\n",
        "\n",
        "**Forcing:** Increased $\\mathrm{CO}_2$ in the atmosphere (usually by humans)\n",
        "- *CAUSE:* $\\mathrm{CO}_2$ released into the atmosphere\n",
        "- *MECHANISM:* more $\\mathrm{CO}_2$ in the atmosphere enhances the greenhouse effect\n",
        "- *EFFECT:* a warmer atmosphere\n",
        "\n",
        "**Feedback:**  Increased water vapor in the atmosphere\n",
        "- *CAUSE:* a warmer atmosphere can hold more water vapor (Clausius-Clapeyron relation from class $e_s \\approx Ae^{BT}$!)\n",
        "- *MECHANISM:* more water vapor in the atmosphere enhances the greenhouse effect\n",
        "- *EFFECT:* an even warmer atmosphere\n",
        "\n",
        "\n"
      ],
      "metadata": {
        "id": "23g7D4AV6XIw"
      }
    },
    {
      "cell_type": "markdown",
      "source": [
        "---\n",
        "\n",
        "## <font color='red'><b> Lapse Rate Feedback </b></font>\n",
        "\n",
        "- emission of infrared radiation varies with temperature\n",
        "- longwave radiation escaping to space from the relatively cold upper atmosphere is less than that emitted toward the ground from the lower atmosphere\n",
        "- global warming will likely result in a decrease of the lapse rate, and will therefore usually be a <font color='blue'>negative/stabilizing</font> feedback\n",
        "\n",
        "\n",
        "<img src=\"https://github.com/fliphilipp/images/blob/main/climate_sensitivity_feedbacks/feedbacks-lapserate_negative.png?raw=true\" width=30%>\n",
        "\n",
        "*Caveat*: This does often not apply the polar regions, where there are strong temperature inversions. The feedback <font color='red'>can be positive in polar regions</font> and contribute to *polar amplification*. More on that in the next lecture...\n",
        "\n"
      ],
      "metadata": {
        "id": "TPw2dxqYDSKg"
      }
    },
    {
      "cell_type": "markdown",
      "source": [
        "---\n",
        "\n",
        "## <font color='red'><b> Cloud Feedbacks </b></font>\n",
        "\n",
        "Clouds can affect the radiative balance in multiple ways:\n",
        "- they can reflect incoming sunlight (increase albedo) $\\rightarrow$ cooling effect\n",
        "- they can absorb/re-emit longwave radiation (enhanced greenhouse) $\\rightarrow$ warming effect\n",
        "\n",
        "<img src=\"https://github.com/fliphilipp/images/blob/main/climate_sensitivity_feedbacks/clouds_positive.png?raw=true\" width=18%> &nbsp;&nbsp;&nbsp;&nbsp;&nbsp;&nbsp;\n",
        "<img src=\"https://github.com/fliphilipp/images/blob/main/climate_sensitivity_feedbacks/clouds_negative.png?raw=true\" width=20%>\n",
        "\n",
        "**Cloud thickness:**\n",
        "Thick clouds have a greater effect on the albedo  \n",
        "\n",
        "**Cloud height:**\n",
        "Higher clouds have a greater effect on the outgoing radiation at the top of the atmosphere\n",
        "\n",
        "<img src=\"https://github.com/fliphilipp/images/blob/main/climate_sensitivity_feedbacks/clouds_high_low.jpg?raw=true\" width=35%>\n",
        "\n",
        "\n",
        "$\\rightarrow$ high, thin clouds have a warming effect<br>\n",
        "$\\rightarrow$ low, thick clouds have a cooling effect\n",
        "\n",
        "- How clouds change due to changes in the climate can lead to <font color='red'>positive</font> or <font color='blue'>negative</font> feedbacks\n",
        "- The effect of cloud feedbacks is still *highly uncertain*\n"
      ],
      "metadata": {
        "id": "dlXwdkxmHDiX"
      }
    },
    {
      "cell_type": "markdown",
      "source": [
        "---\n",
        "\n",
        "## <font color='red'><b> IPCC best estimates </b></font>\n",
        "\n",
        "### Climate feedback estimates\n",
        "<img src=\"https://github.com/fliphilipp/images/blob/main/climate_sensitivity_feedbacks/ipcc-feedbacks.png?raw=true\" width=60%>\n",
        "\n",
        "<br><br>\n",
        "\n",
        "<img src=\"https://github.com/fliphilipp/images/blob/main/climate_sensitivity_feedbacks/ipcc-sensitivity.png?raw=true\" width=60%>\n",
        "\n",
        "\n",
        "\n"
      ],
      "metadata": {
        "id": "QIZBPwpoL5Cv"
      }
    },
    {
      "cell_type": "markdown",
      "source": [
        "---\n",
        "\n",
        "# <font color='red'><b> Main Takeaways </b></font>\n",
        "- How much the Earth's temperature changes in response to\n",
        "forcing is known as the climate sensitivity.\n",
        "-We can calculate the climate sensitivity for a reference\n",
        "system as the change in surface temperature per change in\n",
        "forcing\n",
        "- Feedbacks respond to changes in temperature and alter the\n",
        "total forcing\n",
        "- A <font color='red'>positive</font>/<font color='blue'>negative</font> feedback <font color='red'>amplifies</font>/<font color='blue'>de-amplifies</font> the\n",
        "forcing perturbation, <font color='red'>increasing</font>/<font color='blue'>decreasing</font> the Earth's\n",
        "response\n",
        "- The major feedbacks in the Earth's climate system are:\n",
        "  - surface albedo feedback\n",
        "  - water vapor feedback\n",
        "  - lapse rate feedback\n",
        "  - cloud feedbacks"
      ],
      "metadata": {
        "id": "R5qS6o-D08cR"
      }
    },
    {
      "cell_type": "markdown",
      "source": [
        "<br><br><br><br>\n",
        "\n",
        "\n",
        "<font size='2pt'>\n",
        "Acknowledgements:\n",
        "A lot of material in these lecture notes was adapted from [Emma Beer](https://profiles.rice.edu/faculty/emma-beer)'s notes on the same topic for SIO173 in Spring 2021. Some of the code was inspired by [The Climate Laboratory](https://brian-rose.github.io/ClimateLaboratoryBook/home.html) by [Brian E. J. Rose](https://www.atmos.albany.edu/facstaff/brose/index.html) at the University at Albany.\n",
        "</font>"
      ],
      "metadata": {
        "id": "aDPGHX_rLQCE"
      }
    },
    {
      "cell_type": "markdown",
      "source": [
        "---\n",
        "\n",
        "<br><br>\n",
        "\n",
        "## <font color='blue'><b> Bonus Material from the Final Review Session </b></font>\n",
        "\n",
        "**In the review session we formalized some of the math around climate sensitivity and climate feedbacks.**\n",
        "\n",
        "Given the radiative flux $R = Q_\\text{in} - Q_\\text{out}$ at the top of the atmosphere, we have covered that climate sensitivity $\\lambda_R$ asks the question: *How does surface temperature $T_s$ change with a change in $R$?* This means we can express it as\n",
        "- $\\lambda_R = \\frac{\\partial T_s}{\\partial R}$ and\n",
        "- $\\lambda_R$ is in $\\mathrm{K} / (\\mathrm{W\\, m}^{-2})$\n",
        "\n",
        "The feedback parameter $\\lambda_f$ for a feedback that's represented by the variable $f$ asks: *How does $R$ change with a change in $T_s$?* So we can write\n",
        "- $\\lambda_f = \\frac{\\partial (\\Delta R_f)}{\\partial T_s}$  where $\\Delta R_f$ is the change of $R$ due to the feedback, which becomes $\\lambda_f = \\frac{\\partial R}{\\partial f}\\Big\\rvert_{\\text{all variables but }f}  \\frac{\\partial f}{\\partial T_s}$\n",
        "- $\\lambda_f$ is in $(\\mathrm{W\\, m}^{-2}) / \\mathrm{K}$\n",
        "\n",
        "### Calculating a feedback parameter in a simple system\n",
        "\n",
        "If we have equations for how the radiative flux $R$ depends on the feedback variable $f$, and also an equation that describes how the feedback variable depends on surface temperature $T_s$, then estimating the feedback parameter simply amounts to taking the derivatives shown above.\n",
        "\n",
        "Here, let's again consider the ice-albedo feedback, but with some simpler equations to make the math easier.\n",
        "\n",
        "Consider the model\n",
        "\\begin{align}\n",
        "    R = \\frac{S}{4} (1-\\alpha) - \\sigma T_s^4\n",
        "\\end{align}\n",
        "and assume thermal balance ($R=0$), which gives\n",
        "\\begin{align}\n",
        "  T_s = T_e &= \\left(\\frac{S \\times (1 - \\alpha)}{4\\sigma} \\right)^{1/4}.\n",
        "\\end{align}\n",
        "\n",
        "Now let's use a (very simplified) equation for the albedo feedback, which describes the fact that the planetary albedo decrease with surface temperature:\n",
        "\\begin{align}\n",
        "    \\alpha(T_s) = \\alpha_0 - \\frac{T_s - T_0}{T_\\text{range}},\n",
        "\\end{align}\n",
        "where\n",
        "- $\\alpha_0 = 0.3$,\n",
        "- $T_0 = 288 \\mathrm{\\,K}$, and\n",
        "- $T_\\text{range} = 30 \\mathrm{\\,K}$.\n",
        "\n",
        "First, make a plot of how the albedo depends on temperature:"
      ],
      "metadata": {
        "id": "DRDT5PjqDZFI"
      }
    },
    {
      "cell_type": "code",
      "source": [
        "import numpy as np\n",
        "import matplotlib.pyplot as plt\n",
        "\n",
        "T_0 = 288 # Kelvin\n",
        "T_range = 30 # Kelvin\n",
        "alpha_0 = 0.3\n",
        "\n",
        "def albedo(T_s, T_0=T_0, T_range=T_range, alpha_0=alpha_0):\n",
        "    return np.clip(alpha_0 - (T_s - T_0)/T_range, 0, 1)\n",
        "\n",
        "T_s = np.linspace(260, 305, 1000)\n",
        "alpha = albedo(T_s=T_s)\n",
        "\n",
        "fig, ax = plt.subplots(figsize=[10,4])\n",
        "ax.plot(T_s, alpha, lw=3, label=r'$\\alpha(T_s)$')\n",
        "yl = ax.get_ylim()\n",
        "ax.plot([T_s[0], T_0], [alpha_0]*2, 'r--', label=r'$\\alpha_0 = 0.3$')\n",
        "ax.plot([T_0]*2, [yl[0], alpha_0], 'b--', label=r'$T_0 = 288 \\mathrm{K}$')\n",
        "ax.plot(T_0, alpha_0, marker='.', color='k', markersize=10)\n",
        "ax.set_xlabel('Surface temperature T_s (K)')\n",
        "ax.set_ylabel(r'albedo $\\alpha$')\n",
        "ax.grid()\n",
        "ax.set_xlim((T_s[0], T_s[-1]))\n",
        "ax.set_ylim(yl)\n",
        "ax.legend()\n",
        "plt.savefig('albedo.jpg', dpi=600)"
      ],
      "metadata": {
        "colab": {
          "base_uri": "https://localhost:8080/",
          "height": 388
        },
        "id": "JOqjqu1pDmqH",
        "outputId": "0cc726f1-54f7-49ff-c644-c6f46520e0f6"
      },
      "execution_count": 9,
      "outputs": [
        {
          "output_type": "display_data",
          "data": {
            "text/plain": [
              "<Figure size 1000x400 with 1 Axes>"
            ],
            "image/png": "[encoded data removed]"
          },
          "metadata": {}
        }
      ]
    },
    {
      "cell_type": "markdown",
      "source": [
        "Now, the case of the albedo feedback the equation for the feedback parameter would become\n",
        "\\begin{align}\n",
        "    \\lambda_\\alpha &= \\frac{\\partial R}{\\partial \\alpha}\\Biggr\\rvert_{\\text{all but }\\alpha}  \\frac{\\partial \\alpha}{\\partial T_s} \\\\\n",
        "    &=\\frac{\\partial}{\\partial \\alpha}\\Biggr\\rvert_{\\text{all but }\\alpha} \\left( \\frac{S}{4} (1-\\alpha) - \\sigma T_s^4 \\right)\n",
        "    \\frac{\\partial}{\\partial T_s} \\left( \\alpha_0 - \\frac{T_s - T_0}{T_\\text{range}} \\right) \\\\\n",
        "    &= \\frac{S}{4 T_\\text{range}}\n",
        "\\end{align}\n"
      ],
      "metadata": {
        "id": "VfESsBu5HjNn"
      }
    },
    {
      "cell_type": "code",
      "source": [
        "S = 1360 # W / m^2\n",
        "T_range = 30 # Kelvin\n",
        "lambda_alpha = S/(4*T_range)\n",
        "display(Markdown(r'**In this simple model, the ice-albedo feedback parameter is $\\lambda_\\alpha \\approx %.2f \\mathrm{W\\,m}^{-2}\\mathrm{\\,K}^{-1}$.**' % lambda_alpha))"
      ],
      "metadata": {
        "colab": {
          "base_uri": "https://localhost:8080/",
          "height": 51
        },
        "id": "3xwEDbl5HcjJ",
        "outputId": "4b9f270a-63f2-4bde-f2fd-f8ae0937a73d"
      },
      "execution_count": 10,
      "outputs": [
        {
          "output_type": "display_data",
          "data": {
            "text/plain": [
              "<IPython.core.display.Markdown object>"
            ],
            "text/markdown": "**In this simple model, the ice-albedo feedback parameter is $\\lambda_\\alpha \\approx 11.33 \\mathrm{W\\,m}^{-2}\\mathrm{\\,K}^{-1}$.**"
          },
          "metadata": {}
        }
      ]
    },
    {
      "cell_type": "markdown",
      "source": [
        "Note: in this example, the change in radiative forcing due to the feedback from a change in $1^\\circ\\mathrm{C}$ in surface is much larger than the initial forcing that would have caused this change in temperature in the first place. This means that for this simple example, any change in radiative forcing would cause a runaway feedback that would either turn the Earth into a snowball, or into a completely ice-free planet...\n",
        "\n"
      ],
      "metadata": {
        "id": "DqgaU_9SI5ty"
      }
    }
  ]
}